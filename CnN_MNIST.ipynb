{
 "cells": [
  {
   "cell_type": "code",
   "execution_count": 3,
   "metadata": {},
   "outputs": [],
   "source": [
    "import numpy as np \n",
    "import keras  \n",
    "from keras.datasets import mnist \n",
    "from keras.models import Model ,Sequential\n",
    "from keras.layers import Dense, Input\n",
    "from keras.layers import Conv2D, MaxPooling2D, Dropout, Flatten \n",
    "from keras import backend as k \n",
    "from scipy import ndimage\n",
    "import matplotlib.pyplot as plt"
   ]
  },
  {
   "cell_type": "code",
   "execution_count": 14,
   "metadata": {},
   "outputs": [],
   "source": [
    "(x_train, y_train), (x_test, y_test) = mnist.load_data() "
   ]
  },
  {
   "cell_type": "code",
   "execution_count": 15,
   "metadata": {},
   "outputs": [
    {
     "name": "stdout",
     "output_type": "stream",
     "text": [
      "(60000, 28, 28)\n"
     ]
    }
   ],
   "source": [
    "print (x_train.shape)"
   ]
  },
  {
   "cell_type": "code",
   "execution_count": 16,
   "metadata": {},
   "outputs": [],
   "source": [
    "new_x_train = np.zeros((60000,40,40))\n",
    "rotated_train = np.zeros((60000,40,40))\n",
    "new_x_test = np.zeros((10000,40,40))\n",
    "rotated_test = np.zeros((10000,40,40))\n",
    "mixed_train = np.zeros((60000,40,40))"
   ]
  },
  {
   "cell_type": "code",
   "execution_count": 17,
   "metadata": {},
   "outputs": [],
   "source": [
    "import matplotlib.pyplot as plt\n",
    "for i in range(len(x_train)):\n",
    "    original_img = x_train[i]\n",
    "    rotation_angle = np.random.randint(360)\n",
    "    rotated_image = ndimage.rotate(original_img, rotation_angle)\n",
    "    tr = (40-rotated_image.shape[0])//2\n",
    "    dr = (40-rotated_image.shape[1]) - tr\n",
    "    lc = (40-rotated_image.shape[0])//2\n",
    "    rc = (40-rotated_image.shape[1]) - lc\n",
    "\n",
    "    new_x_train[i] = np.pad(original_img, ( (6,6),(6,6) ) ,mode='constant',constant_values=0)\n",
    "    rotated_train[i] = np.pad(rotated_image, ( (tr,dr),(lc,rc) ) ,mode='constant',constant_values=0)\n",
    "    \n",
    "    # plt.imshow(original_img)\n",
    "    # plt.imshow(rotated_image)\n",
    "for i in range(len(x_test)):\n",
    "    rotation_angle = np.random.randint(360)\n",
    "    rotated_image = ndimage.rotate(x_test[i], rotation_angle)\n",
    "    tr = (40-rotated_image.shape[0])//2\n",
    "    dr = (40-rotated_image.shape[1]) - tr\n",
    "    lc = (40-rotated_image.shape[0])//2\n",
    "    rc = (40-rotated_image.shape[1]) - lc\n",
    "    \n",
    "    rotated_test[i]=np.pad(rotated_image, ( (tr,dr),(lc,rc) ) ,mode='constant',constant_values=0)\n",
    "    \n",
    "    new_x_test[i]=np.pad(x_test[i], ( (6,6),(6,6) ) ,mode='constant',constant_values=0)\n"
   ]
  },
  {
   "cell_type": "code",
   "execution_count": 33,
   "metadata": {},
   "outputs": [
    {
     "name": "stdout",
     "output_type": "stream",
     "text": [
      "(40, 40, 1)\n"
     ]
    },
    {
     "data": {
      "text/plain": [
       "<matplotlib.image.AxesImage at 0x7f1f0809eda0>"
      ]
     },
     "execution_count": 33,
     "metadata": {},
     "output_type": "execute_result"
    },
    {
     "data": {
      "image/png": "[encoded data removed]",
      "text/plain": [
       "<Figure size 432x288 with 1 Axes>"
      ]
     },
     "metadata": {
      "needs_background": "light"
     },
     "output_type": "display_data"
    }
   ],
   "source": [
    "print(rotated_test[20].shape)\n",
    "test = rotated_test[20]\n",
    "test = test.reshape(40,40)\n",
    "plt.imshow(test)"
   ]
  },
  {
   "cell_type": "code",
   "execution_count": 18,
   "metadata": {},
   "outputs": [
    {
     "name": "stdout",
     "output_type": "stream",
     "text": [
      "[5 0 4 ... 5 6 8]\n",
      "[[0. 0. 0. ... 0. 0. 0.]\n",
      " [1. 0. 0. ... 0. 0. 0.]\n",
      " [0. 0. 0. ... 0. 0. 0.]\n",
      " ...\n",
      " [0. 0. 0. ... 0. 0. 0.]\n",
      " [0. 0. 0. ... 0. 0. 0.]\n",
      " [0. 0. 0. ... 0. 1. 0.]]\n"
     ]
    }
   ],
   "source": [
    "img_rows, img_cols=40, 40\n",
    "if k.image_data_format() == 'channels_first': \n",
    "    new_x_train = new_x_train.reshape(new_x_train.shape[0], 1, img_rows, img_cols)\n",
    "    rotated_train = rotated_train.reshape(rotated_train.shape[0], 1, img_rows, img_cols)\n",
    "    new_x_test = new_x_test.reshape(new_x_test.shape[0], 1, img_rows, img_cols) \n",
    "    inpx = (1, img_rows, img_cols) \n",
    "else: \n",
    "    new_x_train = new_x_train.reshape(new_x_train.shape[0], img_rows, img_cols, 1) \n",
    "    rotated_train = rotated_train.reshape(rotated_train.shape[0], img_rows, img_cols, 1)\n",
    "    new_x_test = new_x_test.reshape(new_x_test.shape[0], img_rows, img_cols, 1) \n",
    "    rotated_test = rotated_test.reshape(rotated_test.shape[0], img_rows, img_cols, 1) \n",
    "    inpx = (img_rows, img_cols, 1) \n",
    "\n",
    "y_train = keras.utils.to_categorical(y_train,10)    #One Hot Encode\n",
    "y_test = keras.utils.to_categorical(y_test,10)      #One Hot Encode\n",
    "\n",
    "\n",
    "x_train = x_train.astype('float32') \n",
    "rotated_train = rotated_train.astype('float32') \n",
    "new_x_train = new_x_train.astype('float32') \n",
    "x_test = x_test.astype('float32') \n",
    "new_x_test = new_x_test.astype('float32') \n",
    "rotated_test = rotated_test.astype('float32') \n",
    "\n",
    "\n",
    "x_train /= 255\n",
    "new_x_train /= 255\n",
    "rotated_train /= 255\n",
    "x_test /= 255\n",
    "new_x_test /= 255\n",
    "rotated_test /= 255\n",
    "\n",
    "inpx = Input(shape=inpx) \n",
    "layer1 = Conv2D(32, kernel_size=(3, 3), activation='relu')(inpx) \n",
    "layer2 = Conv2D(64, (3, 3), activation='relu')(layer1) \n",
    "layer3 = MaxPooling2D(pool_size=(3, 3))(layer2) \n",
    "layer4 = Dropout(0.5)(layer3) \n",
    "layer5 = Flatten()(layer4) \n",
    "layer6 = Dense(250, activation='sigmoid')(layer5) \n",
    "layer7 = Dense(10, activation='softmax')(layer6) \n",
    "model = Model([inpx], layer7) \n",
    "model.compile(optimizer=keras.optimizers.Adadelta(), \n",
    "              loss=keras.losses.categorical_crossentropy, \n",
    "              metrics=['accuracy']) \n",
    "  \n",
    "# model.fit(new_x_train, y_train, epochs=2, batch_size=128) "
   ]
  },
  {
   "cell_type": "code",
   "execution_count": 8,
   "metadata": {},
   "outputs": [],
   "source": [
    "# # print (x_test.shape)\n",
    "# score = model.evaluate(rotated_test, y_test, verbose=0) \n",
    "# print('loss=', score[0]) \n",
    "# print('accuracy=', score[1]) "
   ]
  },
  {
   "cell_type": "code",
   "execution_count": 9,
   "metadata": {},
   "outputs": [
    {
     "name": "stdout",
     "output_type": "stream",
     "text": [
      "WARNING:tensorflow:From /usr/local/lib/python3.6/dist-packages/tensorflow/python/ops/math_ops.py:3066: to_int32 (from tensorflow.python.ops.math_ops) is deprecated and will be removed in a future version.\n",
      "Instructions for updating:\n",
      "Use tf.cast instead.\n",
      "Epoch 1/3\n",
      "60000/60000 [==============================] - 177s 3ms/step - loss: 0.3165 - acc: 0.9036\n",
      "Epoch 2/3\n",
      "60000/60000 [==============================] - 210s 4ms/step - loss: 0.0891 - acc: 0.9733\n",
      "Epoch 3/3\n",
      "60000/60000 [==============================] - 206s 3ms/step - loss: 0.0641 - acc: 0.9807\n",
      "Rotated data percentage 0\n",
      "loss= 3.7318526138305663\n",
      "accuracy= 0.3612\n",
      "Epoch 1/3\n",
      "60000/60000 [==============================] - 203s 3ms/step - loss: 0.2179 - acc: 0.9379\n",
      "Epoch 2/3\n",
      "60000/60000 [==============================] - 204s 3ms/step - loss: 0.1417 - acc: 0.9561\n",
      "Epoch 3/3\n",
      "60000/60000 [==============================] - 209s 3ms/step - loss: 0.1108 - acc: 0.9666\n",
      "Rotated data percentage 10\n",
      "loss= 0.5467910362958908\n",
      "accuracy= 0.8275\n",
      "Epoch 1/3\n",
      "60000/60000 [==============================] - 219s 4ms/step - loss: 0.1448 - acc: 0.9565\n",
      "Epoch 2/3\n",
      "60000/60000 [==============================] - 241s 4ms/step - loss: 0.1171 - acc: 0.9648\n",
      "Epoch 3/3\n",
      "60000/60000 [==============================] - 201s 3ms/step - loss: 0.0993 - acc: 0.9711\n",
      "Rotated data percentage 20\n",
      "loss= 0.33211031255126\n",
      "accuracy= 0.8975\n",
      "Epoch 1/3\n",
      "60000/60000 [==============================] - 199s 3ms/step - loss: 0.1223 - acc: 0.9629\n",
      "Epoch 2/3\n",
      "60000/60000 [==============================] - 214s 4ms/step - loss: 0.1036 - acc: 0.9693\n",
      "Epoch 3/3\n",
      "60000/60000 [==============================] - 217s 4ms/step - loss: 0.0923 - acc: 0.9726\n",
      "Rotated data percentage 30\n",
      "loss= 0.23140600017607213\n",
      "accuracy= 0.9276\n",
      "Epoch 1/3\n",
      "60000/60000 [==============================] - 223s 4ms/step - loss: 0.1040 - acc: 0.9687\n",
      "Epoch 2/3\n",
      "60000/60000 [==============================] - 207s 3ms/step - loss: 0.0913 - acc: 0.9723\n",
      "Epoch 3/3\n",
      "60000/60000 [==============================] - 199s 3ms/step - loss: 0.0810 - acc: 0.9751\n",
      "Rotated data percentage 40\n",
      "loss= 0.1824785115376115\n",
      "accuracy= 0.9437\n",
      "Epoch 1/3\n",
      "60000/60000 [==============================] - 199s 3ms/step - loss: 0.0979 - acc: 0.9695\n",
      "Epoch 2/3\n",
      "60000/60000 [==============================] - 198s 3ms/step - loss: 0.0859 - acc: 0.9742\n",
      "Epoch 3/3\n",
      "60000/60000 [==============================] - 199s 3ms/step - loss: 0.0780 - acc: 0.9762\n",
      "Rotated data percentage 50\n",
      "loss= 0.1563132534109056\n",
      "accuracy= 0.9517\n",
      "Epoch 1/3\n",
      "60000/60000 [==============================] - 198s 3ms/step - loss: 0.0922 - acc: 0.9719\n",
      "Epoch 2/3\n",
      "60000/60000 [==============================] - 197s 3ms/step - loss: 0.0822 - acc: 0.9746\n",
      "Epoch 3/3\n",
      "60000/60000 [==============================] - 198s 3ms/step - loss: 0.0745 - acc: 0.9775\n",
      "Rotated data percentage 60\n",
      "loss= 0.14079290256612004\n",
      "accuracy= 0.9561\n",
      "Epoch 1/3\n",
      "60000/60000 [==============================] - 197s 3ms/step - loss: 0.0868 - acc: 0.9734\n",
      "Epoch 2/3\n",
      "60000/60000 [==============================] - 197s 3ms/step - loss: 0.0786 - acc: 0.9763\n",
      "Epoch 3/3\n",
      "60000/60000 [==============================] - 198s 3ms/step - loss: 0.0724 - acc: 0.9776\n",
      "Rotated data percentage 70\n",
      "loss= 0.1285845530539751\n",
      "accuracy= 0.9597\n",
      "Epoch 1/3\n",
      "60000/60000 [==============================] - 197s 3ms/step - loss: 0.0827 - acc: 0.9749\n",
      "Epoch 2/3\n",
      "60000/60000 [==============================] - 196s 3ms/step - loss: 0.0756 - acc: 0.9763\n",
      "Epoch 3/3\n",
      "60000/60000 [==============================] - 197s 3ms/step - loss: 0.0709 - acc: 0.9784\n",
      "Rotated data percentage 80\n",
      "loss= 0.11929636264964938\n",
      "accuracy= 0.965\n",
      "Epoch 1/3\n",
      "60000/60000 [==============================] - 197s 3ms/step - loss: 0.0826 - acc: 0.9746\n",
      "Epoch 2/3\n",
      "60000/60000 [==============================] - 196s 3ms/step - loss: 0.0748 - acc: 0.9772\n",
      "Epoch 3/3\n",
      "60000/60000 [==============================] - 197s 3ms/step - loss: 0.0688 - acc: 0.9786\n",
      "Rotated data percentage 90\n",
      "loss= 0.11176297247093171\n",
      "accuracy= 0.9664\n",
      "Epoch 1/3\n",
      "60000/60000 [==============================] - 196s 3ms/step - loss: 0.0763 - acc: 0.9758\n",
      "Epoch 2/3\n",
      "60000/60000 [==============================] - 196s 3ms/step - loss: 0.0696 - acc: 0.9786\n",
      "Epoch 3/3\n",
      "60000/60000 [==============================] - 196s 3ms/step - loss: 0.0656 - acc: 0.9796\n",
      "Rotated data percentage 100\n",
      "loss= 0.10753180085103958\n",
      "accuracy= 0.9679\n"
     ]
    }
   ],
   "source": [
    "scores=[]\n",
    "k=0;\n",
    "while k<=100:\n",
    "    for i in range(len(x_train)):\n",
    "        percent = len(x_train)*k//100\n",
    "        if i<percent:\n",
    "            new_x_train[i] = rotated_train[i]\n",
    "        else:\n",
    "            break\n",
    "#             new_x_train[i] = new_x_train[i]\n",
    "    model.fit(new_x_train, y_train, epochs=3, batch_size=128)\n",
    "    score = model.evaluate(rotated_test, y_test, verbose=0)\n",
    "    scores.append(score)\n",
    "    print('Rotated data percentage', k)\n",
    "    print('loss=', score[0]) \n",
    "    print('accuracy=', score[1]) \n",
    "    k+=10"
   ]
  },
  {
   "cell_type": "code",
   "execution_count": 16,
   "metadata": {},
   "outputs": [
    {
     "data": {
      "image/png": "[encoded data removed]",
      "text/plain": [
       "<Figure size 432x288 with 1 Axes>"
      ]
     },
     "metadata": {
      "needs_background": "light"
     },
     "output_type": "display_data"
    }
   ],
   "source": [
    "scores = [(3.7318526138305663,36.12),(0.5467910362958908,82.75),(0.33211031255126,89.75),(0.23140600017607213,92.76),(0.1824785115376115,94.37),(0.1563132534109056,95.17),(0.14079290256612004,95.61),(0.1285845530539751,95.97),(0.11929636264964938,96.5),(0.11176297247093171,96.64),(0.10753180085103958,96.79)]\n",
    "# plt.plot([scores[i][1] for i in range(11)],[i*10 for i in range(11)])\n",
    "# plt.plot([scores[i][0] for i in range(11)],[i*10 for i in range(11)])\n",
    "plt.plot([i*10 for i in range(11)],[scores[i][1] for i in range(11)])\n",
    "plt.ylabel(\"Accuracy\")\n",
    "plt.xlabel(\"Share of Rotated Data in training\")\n",
    "plt.title(\"Accuracy VS Mixed Rotated data\")\n",
    "plt.show()"
   ]
  },
  {
   "cell_type": "code",
   "execution_count": 15,
   "metadata": {},
   "outputs": [
    {
     "data": {
      "image/png": "[encoded data removed]",
      "text/plain": [
       "<Figure size 432x288 with 1 Axes>"
      ]
     },
     "metadata": {
      "needs_background": "light"
     },
     "output_type": "display_data"
    }
   ],
   "source": [
    "# plt.plot([scores[i][1] for i in range(11)],[i*10 for i in range(11)])\n",
    "plt.plot([i*10 for i in range(11)],[scores[i][0] for i in range(11)])\n",
    "\n",
    "plt.ylabel(\"Loss\")\n",
    "plt.xlabel(\"Share of Rotated Data in training\")\n",
    "plt.title(\"Loss VS Mixed Rotated data\")\n",
    "plt.show()"
   ]
  }
 ],
 "metadata": {
  "kernelspec": {
   "display_name": "Python 3",
   "language": "python",
   "name": "python3"
  },
  "language_info": {
   "codemirror_mode": {
    "name": "ipython",
    "version": 3
   },
   "file_extension": ".py",
   "mimetype": "text/x-python",
   "name": "python",
   "nbconvert_exporter": "python",
   "pygments_lexer": "ipython3",
   "version": "3.6.7"
  }
 },
 "nbformat": 4,
 "nbformat_minor": 2
}
