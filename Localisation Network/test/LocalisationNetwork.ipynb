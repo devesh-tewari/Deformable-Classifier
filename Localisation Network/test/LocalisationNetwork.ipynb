{
 "cells": [
  {
   "cell_type": "code",
   "execution_count": 1,
   "metadata": {},
   "outputs": [],
   "source": [
    "import tensorflow as tf\n",
    "import numpy as np\n",
    "from matplotlib import pyplot as plt\n",
    "import cv2\n",
    "import math\n",
    "from mpl_toolkits.axes_grid1 import AxesGrid\n",
    "from math import ceil"
   ]
  },
  {
   "cell_type": "code",
   "execution_count": 11,
   "metadata": {},
   "outputs": [],
   "source": [
    "# img = cv2.imread(\"download.png\", cv2.IMREAD_GRAYSCALE)\n",
    "# img = cv2.resize(img, (42,42))\n",
    "# img = img.reshape(-1, 42*42)\n",
    "# a1 = np.array(img)\n",
    "# size = a1.shape\n",
    "# imageArray = np.array(img)\n",
    "# print (\"Dimensions of the Image:\",imageArray.shape)\n",
    "\n",
    "data = np.load('train.p')\n",
    "\n",
    "X_train = np.sum(data['features'], axis=3) / 3   # RGB->grayscale\n",
    "y_train = data['labels']\n",
    "\n",
    "data = np.load('test.p')\n",
    "X_test = np.sum(data['features'], axis=3) / 3   # RGB->grayscale\n",
    "y_test = data['labels']\n",
    "\n",
    "# temp = np.zeros(X_train.shape)\n",
    "# for idx in range(X_train.shape[0]):\n",
    "#     temp[idx] = cv2.resize(X_train[idx], (42,42))\n",
    "\n",
    "# for idx in range(X_test.shape[0]):\n",
    "#     X_test[idx] = cv2.resize(X_test[idx], (42,42))\n",
    "temp = np.zeros((X_train.shape[0],32*32))\n",
    "for idx in range(X_train.shape[0]):\n",
    "    temp[idx] = X_train[idx].reshape(32*32)\n",
    "X_train = temp\n",
    "\n",
    "temp = np.zeros((X_test.shape[0],32*32))\n",
    "for idx in range(X_test.shape[0]):\n",
    "    temp[idx] = X_test[idx].reshape(32*32)\n",
    "X_test = temp"
   ]
  },
  {
   "cell_type": "code",
   "execution_count": 12,
   "metadata": {},
   "outputs": [],
   "source": [
    "import tensorflow as tf\n",
    "\n",
    "\n",
    "def transformer(U, theta, out_size, name='SpatialTransformer', **kwargs):\n",
    "\n",
    "    def _repeat(x, n_repeats):\n",
    "        with tf.variable_scope('_repeat'):\n",
    "            rep = tf.transpose(\n",
    "                tf.expand_dims(tf.ones(shape=tf.stack([n_repeats, ])), 1), [1, 0])\n",
    "            rep = tf.cast(rep, 'int32')\n",
    "            x = tf.matmul(tf.reshape(x, (-1, 1)), rep)\n",
    "            return tf.reshape(x, [-1])\n",
    "\n",
    "    def _interpolate(im, x, y, out_size):\n",
    "        with tf.variable_scope('_interpolate'):\n",
    "            # constants\n",
    "            num_batch = tf.shape(im)[0]\n",
    "            height = tf.shape(im)[1]\n",
    "            width = tf.shape(im)[2]\n",
    "            channels = tf.shape(im)[3]\n",
    "\n",
    "            x = tf.cast(x, 'float32')\n",
    "            y = tf.cast(y, 'float32')\n",
    "            height_f = tf.cast(height, 'float32')\n",
    "            width_f = tf.cast(width, 'float32')\n",
    "            out_height = out_size[0]\n",
    "            out_width = out_size[1]\n",
    "            zero = tf.zeros([], dtype='int32')\n",
    "            max_y = tf.cast(tf.shape(im)[1] - 1, 'int32')\n",
    "            max_x = tf.cast(tf.shape(im)[2] - 1, 'int32')\n",
    "\n",
    "            # scale indices from [-1, 1] to [0, width/height]\n",
    "            x = (x + 1.0)*(width_f) / 2.0\n",
    "            y = (y + 1.0)*(height_f) / 2.0\n",
    "\n",
    "            # do sampling\n",
    "            x0 = tf.cast(tf.floor(x), 'int32')\n",
    "            x1 = x0 + 1\n",
    "            y0 = tf.cast(tf.floor(y), 'int32')\n",
    "            y1 = y0 + 1\n",
    "\n",
    "            x0 = tf.clip_by_value(x0, zero, max_x)\n",
    "            x1 = tf.clip_by_value(x1, zero, max_x)\n",
    "            y0 = tf.clip_by_value(y0, zero, max_y)\n",
    "            y1 = tf.clip_by_value(y1, zero, max_y)\n",
    "            dim2 = width\n",
    "            dim1 = width*height\n",
    "            base = _repeat(tf.range(num_batch)*dim1, out_height*out_width)\n",
    "            base_y0 = base + y0*dim2\n",
    "            base_y1 = base + y1*dim2\n",
    "            idx_a = base_y0 + x0\n",
    "            idx_b = base_y1 + x0\n",
    "            idx_c = base_y0 + x1\n",
    "            idx_d = base_y1 + x1\n",
    "\n",
    "            # use indices to lookup pixels in the flat image and restore\n",
    "            # channels dim\n",
    "            im_flat = tf.reshape(im, tf.stack([-1, channels]))\n",
    "            im_flat = tf.cast(im_flat, 'float32')\n",
    "            Ia = tf.gather(im_flat, idx_a)\n",
    "            Ib = tf.gather(im_flat, idx_b)\n",
    "            Ic = tf.gather(im_flat, idx_c)\n",
    "            Id = tf.gather(im_flat, idx_d)\n",
    "\n",
    "            # and finally calculate interpolated values\n",
    "            x0_f = tf.cast(x0, 'float32')\n",
    "            x1_f = tf.cast(x1, 'float32')\n",
    "            y0_f = tf.cast(y0, 'float32')\n",
    "            y1_f = tf.cast(y1, 'float32')\n",
    "            wa = tf.expand_dims(((x1_f-x) * (y1_f-y)), 1)\n",
    "            wb = tf.expand_dims(((x1_f-x) * (y-y0_f)), 1)\n",
    "            wc = tf.expand_dims(((x-x0_f) * (y1_f-y)), 1)\n",
    "            wd = tf.expand_dims(((x-x0_f) * (y-y0_f)), 1)\n",
    "            output = tf.add_n([wa*Ia, wb*Ib, wc*Ic, wd*Id])\n",
    "            return output\n",
    "\n",
    "    def _meshgrid(height, width):\n",
    "        with tf.variable_scope('_meshgrid'):\n",
    "            # This should be equivalent to:\n",
    "            #  x_t, y_t = np.meshgrid(np.linspace(-1, 1, width),\n",
    "            #                         np.linspace(-1, 1, height))\n",
    "            #  ones = np.ones(np.prod(x_t.shape))\n",
    "            #  grid = np.vstack([x_t.flatten(), y_t.flatten(), ones])\n",
    "            x_t = tf.matmul(tf.ones(shape=tf.stack([height, 1])),\n",
    "                            tf.transpose(tf.expand_dims(tf.linspace(-1.0, 1.0, width), 1), [1, 0]))\n",
    "            y_t = tf.matmul(tf.expand_dims(tf.linspace(-1.0, 1.0, height), 1),\n",
    "                            tf.ones(shape=tf.stack([1, width])))\n",
    "\n",
    "            x_t_flat = tf.reshape(x_t, (1, -1))\n",
    "            y_t_flat = tf.reshape(y_t, (1, -1))\n",
    "\n",
    "            ones = tf.ones_like(x_t_flat)\n",
    "            grid = tf.concat([x_t_flat, y_t_flat, ones], 0)\n",
    "            return grid\n",
    "\n",
    "    def _transform(theta, input_dim, out_size):\n",
    "        with tf.variable_scope('_transform'):\n",
    "            num_batch = tf.shape(input_dim)[0]\n",
    "            height = tf.shape(input_dim)[1]\n",
    "            width = tf.shape(input_dim)[2]\n",
    "            num_channels = tf.shape(input_dim)[3]\n",
    "            theta = tf.reshape(theta, (-1, 2, 3))\n",
    "            theta = tf.cast(theta, 'float32')\n",
    "\n",
    "            # grid of (x_t, y_t, 1), eq (1) in ref [1]\n",
    "            height_f = tf.cast(height, 'float32')\n",
    "            width_f = tf.cast(width, 'float32')\n",
    "            out_height = out_size[0]\n",
    "            out_width = out_size[1]\n",
    "            grid = _meshgrid(out_height, out_width)\n",
    "            grid = tf.expand_dims(grid, 0)\n",
    "            grid = tf.reshape(grid, [-1])\n",
    "            grid = tf.tile(grid, tf.stack([num_batch]))\n",
    "            grid = tf.reshape(grid, tf.stack([num_batch, 3, -1]))\n",
    "\n",
    "            # Transform A x (x_t, y_t, 1)^T -> (x_s, y_s)\n",
    "            T_g = tf.matmul(theta, grid)\n",
    "            x_s = tf.slice(T_g, [0, 0, 0], [-1, 1, -1])\n",
    "            y_s = tf.slice(T_g, [0, 1, 0], [-1, 1, -1])\n",
    "            x_s_flat = tf.reshape(x_s, [-1])\n",
    "            y_s_flat = tf.reshape(y_s, [-1])\n",
    "\n",
    "            input_transformed = _interpolate(\n",
    "                input_dim, x_s_flat, y_s_flat,\n",
    "                out_size)\n",
    "            output = tf.reshape(\n",
    "                input_transformed, tf.stack([num_batch, out_height, out_width, num_channels]))\n",
    "            return output\n",
    "\n",
    "    with tf.variable_scope(name):\n",
    "        output = _transform(theta, U, out_size)\n",
    "        return output\n",
    "\n",
    "\n",
    "def batch_transformer(U, thetas, out_size, name='BatchSpatialTransformer'):\n",
    "    with tf.variable_scope(name):\n",
    "        num_batch, num_transforms = map(int, thetas.get_shape().as_list()[:2])\n",
    "        indices = [[i]*num_transforms for i in xrange(num_batch)]\n",
    "        input_repeated = tf.gather(U, tf.reshape(indices, [-1]))\n",
    "        return transformer(input_repeated, thetas, out_size)"
   ]
  },
  {
   "cell_type": "code",
   "execution_count": 13,
   "metadata": {},
   "outputs": [],
   "source": [
    "def weight_variable(shape, name=\"\"):\n",
    "    initial = tf.zeros(shape)\n",
    "    return tf.Variable(initial, name=name)\n",
    "def bias_variable(shape, name=\"\"):\n",
    "    initial = tf.random_normal(shape, mean = 0.0, stddev=0.01)\n",
    "    return tf.Variable(initial, name= name)"
   ]
  },
  {
   "cell_type": "code",
   "execution_count": 14,
   "metadata": {},
   "outputs": [],
   "source": [
    "def demo_simple_grid(images, figname=None, cmap='gray', axes_pad=0.05):\n",
    "    grid_size = int(ceil(images.shape[0] ** 0.5))\n",
    "    fig = plt.figure()\n",
    "    grid = AxesGrid(fig, 111, nrows_ncols = (grid_size, grid_size), axes_pad = axes_pad)\n",
    "    for i in range(images.shape[0]):\n",
    "        im = grid[i].imshow(images[i], cmap=cmap)\n",
    "        if figname is None:\n",
    "            plt.show()\n",
    "        else:\n",
    "            plt.savefig(figname)\n",
    "    plt.close(\"all\")"
   ]
  },
  {
   "cell_type": "code",
   "execution_count": 15,
   "metadata": {},
   "outputs": [],
   "source": [
    "x = tf.placeholder(tf.float32, [34799, 32*32])"
   ]
  },
  {
   "cell_type": "code",
   "execution_count": 16,
   "metadata": {},
   "outputs": [],
   "source": [
    "W_loc1 = weight_variable([32*32, 1024], name='W_loc1')\n",
    "b_loc1 = bias_variable([1024], name='b_loc1')\n",
    "h_loc1 = tf.nn.relu(tf.matmul(x, W_loc1) + b_loc1)\n",
    "W_loc2 = weight_variable([1024, 256], name='W_loc2')\n",
    "b_loc2 = bias_variable([256], name='b_loc2')\n",
    "h_loc2 = tf.nn.relu(tf.matmul(h_loc1, W_loc2) + b_loc2)\n",
    "W_loc3 = tf.Variable(initial_value=tf.zeros([256, 6], tf.float32), name='W_loc3')\n",
    "\n",
    "# b_loc3 = tf.Variable(initial_value=[0.1, 0.707, 0.0, -0.707, 0.1 ,0.0], name='b_loc3')\n",
    "b_loc3 = tf.Variable(initial_value=[1., 0., 0.0, 0., 1. ,0.0], name='b_loc3')\n",
    "\n",
    "h_loc3 = tf.matmul(h_loc2, W_loc3) + b_loc3\n",
    "\n",
    "x_tensor = tf.reshape(x, [-1, 32, 32, 1])\n",
    "out_size = (32, 32)\n",
    "h_trans = transformer(x_tensor, h_loc3, out_size)\n",
    "stn_weights=[W_loc1, W_loc2, W_loc3]\n",
    "stn_biases=[b_loc1, b_loc2, b_loc3]\n"
   ]
  },
  {
   "cell_type": "code",
   "execution_count": 17,
   "metadata": {},
   "outputs": [
    {
     "name": "stdout",
     "output_type": "stream",
     "text": [
      "(34799, 1024)\n"
     ]
    }
   ],
   "source": [
    "print(X_train.shape)\n",
    "sess = tf.Session()\n",
    "sess.run(tf.initialize_all_variables())\n",
    "gen_images = sess.run(\n",
    "                        h_trans, \n",
    "                        feed_dict={\n",
    "                            x:X_train,\n",
    "#                             y:batch_ys\n",
    "                        }\n",
    "                    )"
   ]
  },
  {
   "cell_type": "code",
   "execution_count": 24,
   "metadata": {},
   "outputs": [
    {
     "name": "stdout",
     "output_type": "stream",
     "text": [
      "Tensor(\"SpatialTransformer_1/_transform/Reshape_5:0\", shape=(34799, 32, 32, 1), dtype=float32)\n",
      "(34799, 32, 32, 1)\n"
     ]
    },
    {
     "data": {
      "image/png": "[encoded data removed]",
      "text/plain": [
       "<Figure size 432x288 with 1 Axes>"
      ]
     },
     "metadata": {
      "needs_background": "light"
     },
     "output_type": "display_data"
    },
    {
     "data": {
      "text/plain": [
       "<matplotlib.image.AxesImage at 0x7fb4485e73c8>"
      ]
     },
     "execution_count": 24,
     "metadata": {},
     "output_type": "execute_result"
    },
    {
     "data": {
      "image/png": "[encoded data removed]",
      "text/plain": [
       "<Figure size 432x288 with 1 Axes>"
      ]
     },
     "metadata": {
      "needs_background": "light"
     },
     "output_type": "display_data"
    }
   ],
   "source": [
    "print(h_trans)\n",
    "print(gen_images.shape)\n",
    "plt.imshow(X_train[0].reshape(32,32))\n",
    "plt.pause(0.2)\n",
    "plt.imshow(gen_images[0].reshape(32,32))"
   ]
  },
  {
   "cell_type": "code",
   "execution_count": 202,
   "metadata": {},
   "outputs": [
    {
     "data": {
      "text/plain": [
       "<matplotlib.image.AxesImage at 0x7ffa6c115c18>"
      ]
     },
     "execution_count": 202,
     "metadata": {},
     "output_type": "execute_result"
    },
    {
     "data": {
      "image/png": "[encoded data removed]",
      "text/plain": [
       "<matplotlib.figure.Figure at 0x7ffa6c1879b0>"
      ]
     },
     "metadata": {},
     "output_type": "display_data"
    }
   ],
   "source": [
    "plt.imshow(gen_images[0,:,:,0])"
   ]
  },
  {
   "cell_type": "code",
   "execution_count": 20,
   "metadata": {},
   "outputs": [],
   "source": [
    "h_trans_flat = tf.reshape(h_trans, [-1, 42*42])\n",
    "W_clsfr_1 = weight_variable([42*42, 1024], name='W_clsfr_1')\n",
    "b_clsfr_1 = bias_variable([1024], name='b_clsfr_1')\n",
    "h_clsfr_1 = tf.nn.relu(\n",
    "                tf.matmul(h_trans_flat, W_clsfr_1) + b_clsfr_1\n",
    "            )\n",
    "W_clsfr_2 = weight_variable([1024, 256], name='W_clsfr_2')\n",
    "b_clsfr_2 = bias_variable([256], name='b_clsfr_2')\n",
    "h_clsfr_2 = tf.nn.relu(\n",
    "                tf.matmul(h_clsfr_1, W_clsfr_2) + b_clsfr_2\n",
    "            )\n",
    "W_clsfr_3 = weight_variable([256, 10], name='W_clsfr_3')\n",
    "b_clsfr_3 = bias_variable([10], name='b_clsfr_3')\n",
    "y_logits  = tf.matmul(h_clsfr_2, W_clsfr_3) + b_clsfr_3\n",
    "clsfr_weights=[W_clsfr_1, W_clsfr_2, W_clsfr_3]\n",
    "clsfr_biases=[b_clsfr_1, b_clsfr_2, b_clsfr_3]"
   ]
  }
 ],
 "metadata": {
  "kernelspec": {
   "display_name": "Python 3",
   "language": "python",
   "name": "python3"
  },
  "language_info": {
   "codemirror_mode": {
    "name": "ipython",
    "version": 3
   },
   "file_extension": ".py",
   "mimetype": "text/x-python",
   "name": "python",
   "nbconvert_exporter": "python",
   "pygments_lexer": "ipython3",
   "version": "3.6.8"
  }
 },
 "nbformat": 4,
 "nbformat_minor": 2
}
