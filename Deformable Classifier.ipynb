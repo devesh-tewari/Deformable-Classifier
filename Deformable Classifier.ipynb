{
 "cells": [
  {
   "cell_type": "markdown",
   "metadata": {},
   "source": [
    "# Deformable Classifier Testing"
   ]
  },
  {
   "cell_type": "code",
   "execution_count": 2,
   "metadata": {},
   "outputs": [],
   "source": [
    "import numpy as np\n",
    "import tensorflow as tf\n",
    "import cv2\n",
    "import math\n",
    "from mpl_toolkits.axes_grid1 import AxesGrid\n",
    "from math import ceil\n",
    "import keras\n",
    "from keras.datasets import mnist \n",
    "from keras.models import Model ,Sequential\n",
    "from keras.layers import Dense, Input\n",
    "from keras.layers import Conv2D, MaxPooling2D, Dropout, Flatten \n",
    "from keras import backend as k \n",
    "from scipy import ndimage\n",
    "import matplotlib.pyplot as plt\n",
    "import os\n",
    "import sys\n",
    "from keras.applications.imagenet_utils import preprocess_input\n",
    "from keras.models import load_model\n",
    "\n",
    "sys.path.append('..')\n",
    "from utils import RotNetDataGenerator, angle_error, binarize_images, get_deformations"
   ]
  },
  {
   "cell_type": "code",
   "execution_count": 3,
   "metadata": {},
   "outputs": [],
   "source": [
    "test_data_path = 'test.p'\n",
    "\n",
    "data = np.load(test_data_path, allow_pickle=True)\n",
    "\n",
    "temp = np.zeros((data['features'].shape[0], data['features'].shape[1], data['features'].shape[2]))\n",
    "for idx in range(data['features'].shape[0]):\n",
    "    temp[idx] = cv2.cvtColor(data['features'][idx], cv2.COLOR_BGR2GRAY)\n",
    "x_test = temp\n",
    "\n",
    "y_test = data['labels']\n",
    "\n",
    "\n",
    "batch_size = 128"
   ]
  },
  {
   "cell_type": "markdown",
   "metadata": {},
   "source": [
    "### Here we test the entire classifier on specified inputs and models"
   ]
  },
  {
   "cell_type": "code",
   "execution_count": 5,
   "metadata": {},
   "outputs": [],
   "source": [
    "def evaluate_deformable_classifier(input_dim, classifier_input_dim, num_classes, loc_net_model_location,\n",
    "                                   classifier_model_location, max_angle):\n",
    "    \n",
    "    global x_test, y_test\n",
    "    \n",
    "    num_images = x_test.shape[0]\n",
    "    loc_model = load_model(loc_net_model_location, custom_objects={'angle_error': angle_error})\n",
    "\n",
    "    thetas, x_test_rotated = get_deformations(\n",
    "        loc_model, \n",
    "        x_test[:num_images],\n",
    "        num_images=num_images,\n",
    "        preprocess_func=binarize_images,\n",
    "        display=False,\n",
    "        max_angle=max_angle\n",
    "    )\n",
    "\n",
    "\n",
    "    p = 3\n",
    "    stn_output = np.zeros((num_images,input_dim-2*p,input_dim-2*p))\n",
    "    idx = 0\n",
    "    flag=0\n",
    "    i = 0\n",
    "    for angle in thetas:\n",
    "        img = x_test_rotated[idx]\n",
    "\n",
    "        rows,cols = img.shape\n",
    "\n",
    "        M = cv2.getRotationMatrix2D((cols/2,rows/2),-angle,1)\n",
    "        dst = cv2.warpAffine(img,M,(cols,rows))[p:-p,p:-p]\n",
    "\n",
    "        stn_output[i] = dst\n",
    "        i += 1\n",
    "\n",
    "        idx += 1\n",
    "\n",
    "\n",
    "    x_test_classifier, y_test_classifier = stn_output, y_test[0:num_images]\n",
    "\n",
    "#     temp = np.zeros((x_train_classifier.shape[0], classifier_input_dim, classifier_input_dim))\n",
    "#     for idx in range(x_train_classifier.shape[0]):\n",
    "#         temp[idx] = cv2.resize(x_train_classifier[idx], (classifier_input_dim, classifier_input_dim))\n",
    "#     x_train_classifier = temp.copy()\n",
    "\n",
    "    temp = np.zeros((x_test_classifier.shape[0], classifier_input_dim, classifier_input_dim))\n",
    "    for idx in range(x_test_classifier.shape[0]):\n",
    "        temp[idx] = cv2.resize(x_test_classifier[idx], (classifier_input_dim, classifier_input_dim))\n",
    "    x_test_classifier = temp\n",
    "\n",
    "\n",
    "    img_rows, img_cols = classifier_input_dim, classifier_input_dim\n",
    "\n",
    "#     x_train_classifier = x_train_classifier.reshape(x_train.shape[0], classifier_input_dim, classifier_input_dim, 1)\n",
    "    x_test_classifier = x_test_classifier.reshape(x_test_classifier.shape[0], img_rows, img_cols, 1) \n",
    "\n",
    "    inpx = (img_rows, img_cols, 1) \n",
    "\n",
    "#     y_train_classifier = keras.utils.to_categorical(y_train_classifier, num_classes)    #One Hot Encode\n",
    "    y_test_classifier = keras.utils.to_categorical(y_test_classifier, num_classes)      #One Hot Encode\n",
    "\n",
    "    inpx = Input(shape=inpx) \n",
    "    layer1 = Conv2D(32, kernel_size=(3, 3), activation='relu')(inpx) \n",
    "    layer2 = Conv2D(64, (3, 3), activation='relu')(layer1) \n",
    "    layer3 = MaxPooling2D(pool_size=(3, 3))(layer2) \n",
    "    layer4 = Dropout(0.5)(layer3) \n",
    "    layer5 = Flatten()(layer4) \n",
    "    layer6 = Dense(250, activation='sigmoid')(layer5) \n",
    "    layer7 = Dense(num_classes, activation='softmax')(layer6) \n",
    "    model = Model([inpx], layer7) \n",
    "    model.compile(optimizer=keras.optimizers.Adadelta(), loss=keras.losses.categorical_crossentropy, metrics=['accuracy']) \n",
    "\n",
    "    model.load_weights(classifier_model_location)\n",
    "\n",
    "\n",
    "    score = model.evaluate(x_test_classifier, y_test_classifier, verbose=0)\n",
    "    print('Loss:', score[0])\n",
    "    print('Accuracy:', score[1]) "
   ]
  },
  {
   "cell_type": "markdown",
   "metadata": {},
   "source": [
    "# Test Results:\n",
    "\n",
    "## On Traffic Sign Dataset"
   ]
  },
  {
   "cell_type": "markdown",
   "metadata": {},
   "source": [
    "#### On maximum rotation 45 degrees"
   ]
  },
  {
   "cell_type": "code",
   "execution_count": null,
   "metadata": {},
   "outputs": [],
   "source": [
    "input_dim = 32\n",
    "classifier_input_dim = 32\n",
    "num_classes = 43\n",
    "\n",
    "loc_net_model_name = 'loc_net_45.hdf5'\n",
    "loc_net_model_location = os.path.join('..', 'train', 'models', loc_net_model_name)\n",
    "\n",
    "classifier_model_name = 'classifier_model.h5'\n",
    "classifier_model_location = os.path.join('.', classifier_model_name)\n",
    "\n",
    "evaluate_deformable_classifier(input_dim, classifier_input_dim, num_classes, loc_net_model_location, \n",
    "                               classifier_model_location, 45)"
   ]
  },
  {
   "cell_type": "markdown",
   "metadata": {},
   "source": [
    "#### On maximum rotation 90 degrees"
   ]
  },
  {
   "cell_type": "code",
   "execution_count": 12,
   "metadata": {},
   "outputs": [
    {
     "name": "stdout",
     "output_type": "stream",
     "text": [
      "Loss: 0.629554668133776\n",
      "Accuracy: 0.8764053839968955\n"
     ]
    }
   ],
   "source": [
    "input_dim = 32\n",
    "classifier_input_dim = 32\n",
    "num_classes = 43\n",
    "\n",
    "loc_net_model_name = 'loc_net_90.hdf5'\n",
    "loc_net_model_location = os.path.join('..', 'train', 'models', loc_net_model_name)\n",
    "\n",
    "classifier_model_name = 'classifier_model.h5'\n",
    "classifier_model_location = os.path.join('.', classifier_model_name)\n",
    "\n",
    "evaluate_deformable_classifier(input_dim, classifier_input_dim, num_classes, loc_net_model_location, \n",
    "                               classifier_model_location, 90)"
   ]
  },
  {
   "cell_type": "markdown",
   "metadata": {},
   "source": [
    "#### On maximum rotation 360 degrees"
   ]
  },
  {
   "cell_type": "code",
   "execution_count": 13,
   "metadata": {},
   "outputs": [
    {
     "name": "stdout",
     "output_type": "stream",
     "text": [
      "Loss: 0.8383397621477963\n",
      "Accuracy: 0.8529691211590197\n"
     ]
    }
   ],
   "source": [
    "input_dim = 32\n",
    "classifier_input_dim = 32\n",
    "num_classes = 43\n",
    "\n",
    "loc_net_model_name = 'loc_net_360.hdf5'\n",
    "loc_net_model_location = os.path.join('..', 'train', 'models', loc_net_model_name)\n",
    "\n",
    "classifier_model_name = 'classifier_model.h5'\n",
    "classifier_model_location = os.path.join('.', classifier_model_name)\n",
    "\n",
    "evaluate_deformable_classifier(input_dim, classifier_input_dim, num_classes, loc_net_model_location, \n",
    "                               classifier_model_location, 180)"
   ]
  },
  {
   "cell_type": "markdown",
   "metadata": {},
   "source": [
    "## On MNIST Dataset"
   ]
  },
  {
   "cell_type": "code",
   "execution_count": 9,
   "metadata": {},
   "outputs": [],
   "source": [
    "(_, _), (x_test, y_test) = mnist.load_data()\n",
    "batch_size = 1000"
   ]
  },
  {
   "cell_type": "markdown",
   "metadata": {},
   "source": [
    "#### On maximum rotation 45 degrees"
   ]
  },
  {
   "cell_type": "code",
   "execution_count": 12,
   "metadata": {},
   "outputs": [
    {
     "name": "stdout",
     "output_type": "stream",
     "text": [
      "Loss: 1.9801867755889893\n",
      "Accuracy: 0.4997\n"
     ]
    }
   ],
   "source": [
    "input_dim = 28\n",
    "classifier_input_dim = 40\n",
    "num_classes = 10\n",
    "MAX_ANGLE = 45\n",
    "\n",
    "loc_net_model_name = 'loc_net_mnist_45.hdf5'\n",
    "loc_net_model_location = os.path.join('..', 'train', 'models', loc_net_model_name)\n",
    "\n",
    "classifier_model_name = 'classifier_mnist_50.h5'\n",
    "classifier_model_location = os.path.join('.', classifier_model_name)\n",
    "\n",
    "evaluate_deformable_classifier(input_dim, classifier_input_dim, num_classes, loc_net_model_location, \n",
    "                               classifier_model_location, 45)"
   ]
  },
  {
   "cell_type": "markdown",
   "metadata": {},
   "source": [
    "#### On maximum rotation 90 degrees"
   ]
  },
  {
   "cell_type": "code",
   "execution_count": 10,
   "metadata": {},
   "outputs": [
    {
     "name": "stdout",
     "output_type": "stream",
     "text": [
      "Loss: 1.7935221740722656\n",
      "Accuracy: 0.543\n"
     ]
    }
   ],
   "source": [
    "input_dim = 28\n",
    "classifier_input_dim = 40\n",
    "num_classes = 10\n",
    "MAX_ANGLE = 90\n",
    "\n",
    "loc_net_model_name = 'loc_net_mnist_90.hdf5'\n",
    "loc_net_model_location = os.path.join('..', 'train', 'models', loc_net_model_name)\n",
    "\n",
    "classifier_model_name = 'classifier_mnist_50.h5'\n",
    "classifier_model_location = os.path.join('.', classifier_model_name)\n",
    "\n",
    "evaluate_deformable_classifier(input_dim, classifier_input_dim, num_classes, loc_net_model_location, \n",
    "                               classifier_model_location, 90)"
   ]
  },
  {
   "cell_type": "markdown",
   "metadata": {},
   "source": [
    "#### On maximum rotation 90 degrees"
   ]
  },
  {
   "cell_type": "code",
   "execution_count": 11,
   "metadata": {},
   "outputs": [
    {
     "name": "stdout",
     "output_type": "stream",
     "text": [
      "Loss: 2.1136860750198365\n",
      "Accuracy: 0.4723\n"
     ]
    }
   ],
   "source": [
    "input_dim = 28\n",
    "classifier_input_dim = 40\n",
    "num_classes = 10\n",
    "MAX_ANGLE = 180\n",
    "\n",
    "loc_net_model_name = 'loc_net_mnist_90.hdf5'\n",
    "loc_net_model_location = os.path.join('..', 'train', 'models', loc_net_model_name)\n",
    "\n",
    "classifier_model_name = 'classifier_mnist_50.h5'\n",
    "classifier_model_location = os.path.join('.', classifier_model_name)\n",
    "\n",
    "evaluate_deformable_classifier(input_dim, classifier_input_dim, num_classes, loc_net_model_location, \n",
    "                               classifier_model_location, 180)"
   ]
  },
  {
   "cell_type": "code",
   "execution_count": null,
   "metadata": {},
   "outputs": [],
   "source": []
  }
 ],
 "metadata": {
  "kernelspec": {
   "display_name": "Python 3",
   "language": "python",
   "name": "python3"
  },
  "language_info": {
   "codemirror_mode": {
    "name": "ipython",
    "version": 3
   },
   "file_extension": ".py",
   "mimetype": "text/x-python",
   "name": "python",
   "nbconvert_exporter": "python",
   "pygments_lexer": "ipython3",
   "version": "3.6.8"
  }
 },
 "nbformat": 4,
 "nbformat_minor": 2
}
