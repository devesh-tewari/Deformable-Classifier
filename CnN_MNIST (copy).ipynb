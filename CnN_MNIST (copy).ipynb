{
 "cells": [
  {
   "cell_type": "code",
   "execution_count": 1,
   "metadata": {},
   "outputs": [
    {
     "name": "stderr",
     "output_type": "stream",
     "text": [
      "Using TensorFlow backend.\n"
     ]
    }
   ],
   "source": [
    "import numpy as np \n",
    "import keras  \n",
    "from keras.datasets import mnist \n",
    "from keras.models import Model ,Sequential\n",
    "from keras.layers import Dense, Input\n",
    "from keras.layers import Conv2D, MaxPooling2D, Dropout, Flatten \n",
    "from keras import backend as k \n",
    "from scipy import ndimage\n",
    "import matplotlib.pyplot as plt"
   ]
  },
  {
   "cell_type": "code",
   "execution_count": 2,
   "metadata": {},
   "outputs": [],
   "source": [
    "(x_train, y_train), (x_test, y_test) = mnist.load_data() "
   ]
  },
  {
   "cell_type": "code",
   "execution_count": 3,
   "metadata": {},
   "outputs": [],
   "source": [
    "new_x_train   = np.zeros((60000,40,40))\n",
    "rotated_train = np.zeros((60000,40,40))\n",
    "new_x_test    = np.zeros((10000,40,40))\n",
    "rotated_test  = np.zeros((10000,40,40))\n",
    "mixed_train   = np.zeros((60000,40,40))"
   ]
  },
  {
   "cell_type": "code",
   "execution_count": 4,
   "metadata": {},
   "outputs": [],
   "source": [
    "\n",
    "for i in range(len(x_train)):\n",
    "    original_img   = x_train[i]\n",
    "    rotation_angle = np.random.randint(360)\n",
    "    rotated_image  = ndimage.rotate(original_img, rotation_angle)\n",
    "    tr = (40-rotated_image.shape[0])//2\n",
    "    dr = (40-rotated_image.shape[1]) - tr\n",
    "    lc = (40-rotated_image.shape[0])//2\n",
    "    rc = (40-rotated_image.shape[1]) - lc\n",
    "\n",
    "    new_x_train[i] = np.pad(original_img, ( (6,6),(6,6) ) ,mode='constant',constant_values=0)\n",
    "    rotated_train[i] = np.pad(rotated_image, ( (tr,dr),(lc,rc) ) ,mode='constant',constant_values=0)\n",
    "    \n",
    "    # plt.imshow(original_img)\n",
    "    # plt.imshow(rotated_image)\n",
    "for i in range(len(x_test)):\n",
    "    rotation_angle = np.random.randint(360)\n",
    "    rotated_image = ndimage.rotate(x_test[i], rotation_angle)\n",
    "    tr = (40-rotated_image.shape[0])//2\n",
    "    dr = (40-rotated_image.shape[1]) - tr\n",
    "    lc = (40-rotated_image.shape[0])//2\n",
    "    rc = (40-rotated_image.shape[1]) - lc\n",
    "    \n",
    "    rotated_test[i]=np.pad(rotated_image, ( (tr,dr),(lc,rc) ) ,mode='constant',constant_values=0)\n",
    "    \n",
    "    new_x_test[i]=np.pad(x_test[i], ( (6,6),(6,6) ) ,mode='constant',constant_values=0)\n"
   ]
  },
  {
   "cell_type": "code",
   "execution_count": 5,
   "metadata": {},
   "outputs": [
    {
     "name": "stdout",
     "output_type": "stream",
     "text": [
      "WARNING:tensorflow:From /usr/local/lib/python2.7/dist-packages/tensorflow/python/framework/op_def_library.py:263: colocate_with (from tensorflow.python.framework.ops) is deprecated and will be removed in a future version.\n",
      "Instructions for updating:\n",
      "Colocations handled automatically by placer.\n",
      "WARNING:tensorflow:From /usr/local/lib/python2.7/dist-packages/keras/backend/tensorflow_backend.py:3445: calling dropout (from tensorflow.python.ops.nn_ops) with keep_prob is deprecated and will be removed in a future version.\n",
      "Instructions for updating:\n",
      "Please use `rate` instead of `keep_prob`. Rate should be set to `rate = 1 - keep_prob`.\n"
     ]
    }
   ],
   "source": [
    "img_rows, img_cols=40, 40\n",
    "new_x_train = new_x_train.reshape(new_x_train.shape[0], img_rows, img_cols, 1) \n",
    "rotated_train = rotated_train.reshape(rotated_train.shape[0], img_rows, img_cols, 1)\n",
    "new_x_test = new_x_test.reshape(new_x_test.shape[0], img_rows, img_cols, 1) \n",
    "rotated_test = rotated_test.reshape(rotated_test.shape[0], img_rows, img_cols, 1) \n",
    "inpx = (img_rows, img_cols, 1) \n",
    "\n",
    "y_train = keras.utils.to_categorical(y_train,10)    #One Hot Encode\n",
    "y_test = keras.utils.to_categorical(y_test,10)      #One Hot Encode\n",
    "\n",
    "\n",
    "x_train = x_train.astype('float32') \n",
    "rotated_train = rotated_train.astype('float32') \n",
    "new_x_train = new_x_train.astype('float32') \n",
    "x_test = x_test.astype('float32') \n",
    "new_x_test = new_x_test.astype('float32') \n",
    "rotated_test = rotated_test.astype('float32') \n",
    "\n",
    "\n",
    "x_train /= 255\n",
    "new_x_train /= 255\n",
    "rotated_train /= 255\n",
    "x_test /= 255\n",
    "new_x_test /= 255\n",
    "rotated_test /= 255\n",
    "\n",
    "inpx = Input(shape=inpx) \n",
    "layer1 = Conv2D(32, kernel_size=(3, 3), activation='relu')(inpx) \n",
    "layer2 = Conv2D(64, (3, 3), activation='relu')(layer1) \n",
    "layer3 = MaxPooling2D(pool_size=(3, 3))(layer2) \n",
    "layer4 = Dropout(0.5)(layer3) \n",
    "layer5 = Flatten()(layer4) \n",
    "layer6 = Dense(250, activation='sigmoid')(layer5) \n",
    "layer7 = Dense(10, activation='softmax')(layer6) \n",
    "model = Model([inpx], layer7) \n",
    "model.compile(optimizer=keras.optimizers.Adadelta(), loss=keras.losses.categorical_crossentropy, metrics=['accuracy']) \n"
   ]
  },
  {
   "cell_type": "code",
   "execution_count": 6,
   "metadata": {},
   "outputs": [],
   "source": [
    "mixed_test = np.concatenate((new_x_test, rotated_test), axis=0)\n",
    "mixed_y_test = np.concatenate((y_test, y_test), axis=0)"
   ]
  },
  {
   "cell_type": "code",
   "execution_count": 7,
   "metadata": {},
   "outputs": [
    {
     "name": "stdout",
     "output_type": "stream",
     "text": [
      "WARNING:tensorflow:From /usr/local/lib/python2.7/dist-packages/tensorflow/python/ops/math_ops.py:3066: to_int32 (from tensorflow.python.ops.math_ops) is deprecated and will be removed in a future version.\n",
      "Instructions for updating:\n",
      "Use tf.cast instead.\n",
      "Epoch 1/3\n",
      "60000/60000 [==============================] - 550s 9ms/step - loss: 0.3295 - acc: 0.8989\n",
      "Epoch 2/3\n",
      "60000/60000 [==============================] - 469s 8ms/step - loss: 0.0837 - acc: 0.9754\n",
      "Epoch 3/3\n",
      "60000/60000 [==============================] - 454s 8ms/step - loss: 0.0591 - acc: 0.9816\n",
      "('Rotated data percentage', 0)\n",
      "('loss=', 1.8397603826786857)\n",
      "('accuracy=', 0.6841)\n",
      "Epoch 1/3\n",
      "60000/60000 [==============================] - 457s 8ms/step - loss: 0.2117 - acc: 0.9393\n",
      "Epoch 2/3\n",
      "60000/60000 [==============================] - 477s 8ms/step - loss: 0.1359 - acc: 0.9585\n",
      "Epoch 3/3\n",
      "60000/60000 [==============================] - 501s 8ms/step - loss: 0.1051 - acc: 0.9680\n",
      "('Rotated data percentage', 10)\n",
      "('loss=', 0.31936039056405424)\n",
      "('accuracy=', 0.8968)\n",
      "Epoch 1/3\n",
      "60000/60000 [==============================] - 511s 9ms/step - loss: 0.1381 - acc: 0.9578\n",
      "Epoch 2/3\n",
      "60000/60000 [==============================] - 514s 9ms/step - loss: 0.1136 - acc: 0.9661\n",
      "Epoch 3/3\n",
      "60000/60000 [==============================] - 512s 9ms/step - loss: 0.0959 - acc: 0.9713\n",
      "('Rotated data percentage', 20)\n",
      "('loss=', 0.17147038258761169)\n",
      "('accuracy=', 0.9478)\n",
      "Epoch 1/3\n",
      "60000/60000 [==============================] - 557s 9ms/step - loss: 0.1207 - acc: 0.9632\n",
      "Epoch 2/3\n",
      "60000/60000 [==============================] - 535s 9ms/step - loss: 0.1050 - acc: 0.9681\n",
      "Epoch 3/3\n",
      "60000/60000 [==============================] - 499s 8ms/step - loss: 0.0898 - acc: 0.9729\n",
      "('Rotated data percentage', 30)\n",
      "('loss=', 0.12762171174259856)\n",
      "('accuracy=', 0.9611)\n",
      "Epoch 1/3\n",
      "60000/60000 [==============================] - 479s 8ms/step - loss: 0.1037 - acc: 0.9682\n",
      "Epoch 2/3\n",
      "60000/60000 [==============================] - 492s 8ms/step - loss: 0.0910 - acc: 0.9729\n",
      "Epoch 3/3\n",
      "60000/60000 [==============================] - 506s 8ms/step - loss: 0.0828 - acc: 0.9748\n",
      "('Rotated data percentage', 40)\n",
      "('loss=', 0.1078373585009016)\n",
      "('accuracy=', 0.96715)\n",
      "Epoch 1/3\n",
      "60000/60000 [==============================] - 513s 9ms/step - loss: 0.0957 - acc: 0.9709\n",
      "Epoch 2/3\n",
      "60000/60000 [==============================] - 520s 9ms/step - loss: 0.0870 - acc: 0.9737\n",
      "Epoch 3/3\n",
      "60000/60000 [==============================] - 522s 9ms/step - loss: 0.0791 - acc: 0.9761\n",
      "('Rotated data percentage', 50)\n",
      "('loss=', 0.0976344832456205)\n",
      "('accuracy=', 0.97035)\n",
      "Epoch 1/3\n",
      "60000/60000 [==============================] - 478s 8ms/step - loss: 0.0913 - acc: 0.9724\n",
      "Epoch 2/3\n",
      "60000/60000 [==============================] - 486s 8ms/step - loss: 0.0810 - acc: 0.9751\n",
      "Epoch 3/3\n",
      "60000/60000 [==============================] - 481s 8ms/step - loss: 0.0747 - acc: 0.9768\n",
      "('Rotated data percentage', 60)\n",
      "('loss=', 0.08565796150328825)\n",
      "('accuracy=', 0.9735)\n",
      "Epoch 1/3\n",
      "60000/60000 [==============================] - 481s 8ms/step - loss: 0.0860 - acc: 0.9741\n",
      "Epoch 2/3\n",
      "60000/60000 [==============================] - 478s 8ms/step - loss: 0.0782 - acc: 0.9762\n",
      "Epoch 3/3\n",
      "60000/60000 [==============================] - 497s 8ms/step - loss: 0.0717 - acc: 0.9782\n",
      "('Rotated data percentage', 70)\n",
      "('loss=', 0.08224746576590114)\n",
      "('accuracy=', 0.9739)\n",
      "Epoch 1/3\n",
      "60000/60000 [==============================] - 511s 9ms/step - loss: 0.0832 - acc: 0.9743\n",
      "Epoch 2/3\n",
      "60000/60000 [==============================] - 526s 9ms/step - loss: 0.0758 - acc: 0.9769\n",
      "Epoch 3/3\n",
      "60000/60000 [==============================] - 535s 9ms/step - loss: 0.0716 - acc: 0.9780\n",
      "('Rotated data percentage', 80)\n",
      "('loss=', 0.07765031893703271)\n",
      "('accuracy=', 0.976)\n",
      "Epoch 1/3\n",
      "60000/60000 [==============================] - 605s 10ms/step - loss: 0.0834 - acc: 0.9745\n",
      "Epoch 2/3\n",
      "60000/60000 [==============================] - 529s 9ms/step - loss: 0.0757 - acc: 0.9762\n",
      "Epoch 3/3\n",
      "60000/60000 [==============================] - 510s 8ms/step - loss: 0.0687 - acc: 0.9794\n",
      "('Rotated data percentage', 90)\n",
      "('loss=', 0.07717632257602818)\n",
      "('accuracy=', 0.97595)\n",
      "Epoch 1/3\n",
      "60000/60000 [==============================] - 487s 8ms/step - loss: 0.0778 - acc: 0.9765\n",
      "Epoch 2/3\n",
      "60000/60000 [==============================] - 491s 8ms/step - loss: 0.0699 - acc: 0.9788\n",
      "Epoch 3/3\n",
      "60000/60000 [==============================] - 492s 8ms/step - loss: 0.0669 - acc: 0.9798\n",
      "('Rotated data percentage', 100)\n",
      "('loss=', 0.07741244588449481)\n",
      "('accuracy=', 0.97575)\n"
     ]
    }
   ],
   "source": [
    "scores=[]\n",
    "k=0;\n",
    "while k<=100:\n",
    "    for i in range(len(x_train)):\n",
    "        percent = len(x_train)*k//100\n",
    "        if i<percent:\n",
    "            new_x_train[i] = rotated_train[i]\n",
    "        else:\n",
    "            break\n",
    "    model.fit(new_x_train, y_train, epochs=3, batch_size=128)\n",
    "    score = model.evaluate(mixed_test, mixed_y_test, verbose=0)\n",
    "    scores.append(score)\n",
    "    print('Rotated data percentage', k)\n",
    "    print('loss=', score[0]) \n",
    "    print('accuracy=', score[1]) \n",
    "    k+=10"
   ]
  },
  {
   "cell_type": "code",
   "execution_count": 16,
   "metadata": {},
   "outputs": [
    {
     "data": {
      "image/png": "[encoded data removed]",
      "text/plain": [
       "<Figure size 432x288 with 1 Axes>"
      ]
     },
     "metadata": {
      "needs_background": "light"
     },
     "output_type": "display_data"
    }
   ],
   "source": [
    "scores = [(3.7318526138305663,36.12),(0.5467910362958908,82.75),(0.33211031255126,89.75),(0.23140600017607213,92.76),(0.1824785115376115,94.37),(0.1563132534109056,95.17),(0.14079290256612004,95.61),(0.1285845530539751,95.97),(0.11929636264964938,96.5),(0.11176297247093171,96.64),(0.10753180085103958,96.79)]\n",
    "# plt.plot([scores[i][1] for i in range(11)],[i*10 for i in range(11)])\n",
    "# plt.plot([scores[i][0] for i in range(11)],[i*10 for i in range(11)])\n",
    "plt.plot([i*10 for i in range(11)],[scores[i][1] for i in range(11)])\n",
    "plt.ylabel(\"Accuracy\")\n",
    "plt.xlabel(\"Share of Rotated Data in training\")\n",
    "plt.title(\"Accuracy VS Mixed Rotated data\")\n",
    "plt.show()"
   ]
  },
  {
   "cell_type": "code",
   "execution_count": 15,
   "metadata": {},
   "outputs": [
    {
     "data": {
      "image/png": "[encoded data removed]",
      "text/plain": [
       "<Figure size 432x288 with 1 Axes>"
      ]
     },
     "metadata": {
      "needs_background": "light"
     },
     "output_type": "display_data"
    }
   ],
   "source": [
    "# plt.plot([scores[i][1] for i in range(11)],[i*10 for i in range(11)])\n",
    "plt.plot([i*10 for i in range(11)],[scores[i][0] for i in range(11)])\n",
    "\n",
    "plt.ylabel(\"Loss\")\n",
    "plt.xlabel(\"Share of Rotated Data in training\")\n",
    "plt.title(\"Loss VS Mixed Rotated data\")\n",
    "plt.show()"
   ]
  }
 ],
 "metadata": {
  "kernelspec": {
   "display_name": "Python 2",
   "language": "python",
   "name": "python2"
  },
  "language_info": {
   "codemirror_mode": {
    "name": "ipython",
    "version": 2
   },
   "file_extension": ".py",
   "mimetype": "text/x-python",
   "name": "python",
   "nbconvert_exporter": "python",
   "pygments_lexer": "ipython2",
   "version": "2.7.15rc1"
  }
 },
 "nbformat": 4,
 "nbformat_minor": 2
}
