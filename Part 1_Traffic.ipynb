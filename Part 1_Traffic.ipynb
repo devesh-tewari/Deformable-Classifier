{
 "cells": [
  {
   "cell_type": "code",
   "execution_count": 3,
   "metadata": {},
   "outputs": [
    {
     "name": "stderr",
     "output_type": "stream",
     "text": [
      "Using TensorFlow backend.\n"
     ]
    }
   ],
   "source": [
    "import numpy as np \n",
    "import keras  \n",
    "from keras.datasets import mnist \n",
    "from keras.models import Model ,Sequential\n",
    "from keras.layers import Dense, Input\n",
    "from keras.layers import Conv2D, MaxPooling2D, Dropout, Flatten \n",
    "from keras import backend as k \n",
    "from scipy import ndimage\n",
    "import matplotlib.pyplot as plt"
   ]
  },
  {
   "cell_type": "code",
   "execution_count": 2,
   "metadata": {},
   "outputs": [],
   "source": [
    "def rgb2gray(data):\n",
    "    new_data = np.zeros((data.shape[0],data.shape[1],data.shape[2]))\n",
    "    for i in range(len(data)):\n",
    "        new_data[i] = np.dot(data[i][...,:3], [0.2989, 0.5870, 0.1140])\n",
    "    return new_data"
   ]
  },
  {
   "cell_type": "code",
   "execution_count": 3,
   "metadata": {},
   "outputs": [
    {
     "name": "stdout",
     "output_type": "stream",
     "text": [
      "(12630, 32, 32, 3)\n",
      "(34799, 32, 32, 3)\n"
     ]
    }
   ],
   "source": [
    "train_data = np.load(\"traffic-signs/train.p\")['features']\n",
    "test_data  = np.load(\"traffic-signs/test.p\")['features']\n",
    "print(test_data.shape)\n",
    "print(train_data.shape)\n",
    "train_data = rgb2gray(train_data)\n",
    "test_data  = rgb2gray(test_data)\n",
    "\n",
    "# (x_train, y_train), (x_test, y_test) = mnist.load_data() \n",
    "x_train, y_train, x_test, y_test = train_data ,  np.load(\"traffic-signs/train.p\")['labels'] , test_data ,np.load(\"traffic-signs/test.p\")['labels']"
   ]
  },
  {
   "cell_type": "code",
   "execution_count": 4,
   "metadata": {},
   "outputs": [
    {
     "name": "stdout",
     "output_type": "stream",
     "text": [
      "(34799, 32, 32) (34799,) (12630, 32, 32) (12630,)\n"
     ]
    }
   ],
   "source": [
    "print (x_train.shape, y_train.shape, x_test.shape, y_test.shape)"
   ]
  },
  {
   "cell_type": "code",
   "execution_count": 5,
   "metadata": {},
   "outputs": [],
   "source": [
    "new_x_train   = np.zeros((train_data.shape[0],48,48))\n",
    "rotated_train = np.zeros((train_data.shape[0],48,48))\n",
    "new_x_test    = np.zeros((test_data.shape[0],48,48))\n",
    "rotated_test  = np.zeros((test_data.shape[0],48,48))\n",
    "mixed_train   = np.zeros((train_data.shape[0],48,48))"
   ]
  },
  {
   "cell_type": "code",
   "execution_count": 6,
   "metadata": {},
   "outputs": [],
   "source": [
    "\n",
    "for i in range(len(x_train)):\n",
    "    original_img   = x_train[i]\n",
    "    rotation_angle = np.random.randint(360)\n",
    "    rotated_image  = ndimage.rotate(original_img, rotation_angle)\n",
    "    tr = (48-rotated_image.shape[0])//2\n",
    "    dr = (48-rotated_image.shape[1]) - tr\n",
    "    lc = (48-rotated_image.shape[0])//2\n",
    "    rc = (48-rotated_image.shape[1]) - lc\n",
    "#     print (tr,dr,lc,rc)\n",
    "    new_x_train[i] = np.pad(original_img, ( (8,8),(8,8) ) ,mode='constant',constant_values=0)\n",
    "    rotated_train[i] = np.pad(rotated_image, ( (tr,dr),(lc,rc) ) ,mode='constant',constant_values=0)\n",
    "    \n",
    "    # plt.imshow(original_img)\n",
    "    # plt.imshow(rotated_image)\n",
    "for i in range(len(x_test)):\n",
    "    rotation_angle = np.random.randint(360)\n",
    "    rotated_image = ndimage.rotate(x_test[i], rotation_angle)\n",
    "    tr = (48-rotated_image.shape[0])//2\n",
    "    dr = (48-rotated_image.shape[1]) - tr\n",
    "    lc = (48-rotated_image.shape[0])//2\n",
    "    rc = (48-rotated_image.shape[1]) - lc\n",
    "    \n",
    "    rotated_test[i]=np.pad(rotated_image, ( (tr,dr),(lc,rc) ) ,mode='constant',constant_values=0)\n",
    "    \n",
    "    new_x_test[i]=np.pad(x_test[i], ( (8,8),(8,8) ) ,mode='constant',constant_values=0)\n"
   ]
  },
  {
   "cell_type": "code",
   "execution_count": 7,
   "metadata": {},
   "outputs": [
    {
     "name": "stdout",
     "output_type": "stream",
     "text": [
      "WARNING:tensorflow:From /usr/local/lib/python3.6/dist-packages/tensorflow/python/framework/op_def_library.py:263: colocate_with (from tensorflow.python.framework.ops) is deprecated and will be removed in a future version.\n",
      "Instructions for updating:\n",
      "Colocations handled automatically by placer.\n",
      "WARNING:tensorflow:From /usr/local/lib/python3.6/dist-packages/keras/backend/tensorflow_backend.py:3445: calling dropout (from tensorflow.python.ops.nn_ops) with keep_prob is deprecated and will be removed in a future version.\n",
      "Instructions for updating:\n",
      "Please use `rate` instead of `keep_prob`. Rate should be set to `rate = 1 - keep_prob`.\n"
     ]
    }
   ],
   "source": [
    "img_rows, img_cols=48, 48\n",
    "new_x_train = new_x_train.reshape(new_x_train.shape[0], img_rows, img_cols, 1) \n",
    "rotated_train = rotated_train.reshape(rotated_train.shape[0], img_rows, img_cols, 1)\n",
    "new_x_test = new_x_test.reshape(new_x_test.shape[0], img_rows, img_cols, 1) \n",
    "rotated_test = rotated_test.reshape(rotated_test.shape[0], img_rows, img_cols, 1) \n",
    "inpx = (img_rows, img_cols, 1) \n",
    "\n",
    "y_train = keras.utils.to_categorical(y_train,43)    #One Hot Encode\n",
    "y_test = keras.utils.to_categorical(y_test,43)      #One Hot Encode\n",
    "\n",
    "\n",
    "x_train = x_train.astype('float32') \n",
    "rotated_train = rotated_train.astype('float32') \n",
    "new_x_train = new_x_train.astype('float32') \n",
    "x_test = x_test.astype('float32') \n",
    "new_x_test = new_x_test.astype('float32') \n",
    "rotated_test = rotated_test.astype('float32') \n",
    "\n",
    "\n",
    "# x_train /= 255\n",
    "# new_x_train /= 255\n",
    "# rotated_train /= 255\n",
    "# x_test /= 255\n",
    "# new_x_test /= 255\n",
    "# rotated_test /= 255\n",
    "\n",
    "inpx = Input(shape=inpx) \n",
    "layer1 = Conv2D(32, kernel_size=(3, 3), activation='relu')(inpx) \n",
    "layer2 = Conv2D(64, (3, 3), activation='relu')(layer1) \n",
    "layer3 = MaxPooling2D(pool_size=(3, 3))(layer2) \n",
    "layer4 = Dropout(0.5)(layer3) \n",
    "layer5 = Flatten()(layer4) \n",
    "layer6 = Dense(250, activation='sigmoid')(layer5) \n",
    "layer7 = Dense(43, activation='softmax')(layer6) \n",
    "# model = Model([inpx], layer7) \n",
    "# model.compile(optimizer=keras.optimizers.Adadelta(), loss=keras.losses.categorical_crossentropy, metrics=['accuracy']) \n"
   ]
  },
  {
   "cell_type": "code",
   "execution_count": 8,
   "metadata": {},
   "outputs": [],
   "source": [
    "mixed_test = np.concatenate((new_x_test, rotated_test), axis=0)\n",
    "mixed_y_test = np.concatenate((y_test, y_test), axis=0)"
   ]
  },
  {
   "cell_type": "code",
   "execution_count": 9,
   "metadata": {},
   "outputs": [
    {
     "name": "stdout",
     "output_type": "stream",
     "text": [
      "WARNING:tensorflow:From /usr/local/lib/python3.6/dist-packages/tensorflow/python/ops/math_ops.py:3066: to_int32 (from tensorflow.python.ops.math_ops) is deprecated and will be removed in a future version.\n",
      "Instructions for updating:\n",
      "Use tf.cast instead.\n",
      "Epoch 1/3\n",
      "34799/34799 [==============================] - 167s 5ms/step - loss: 3.5003 - acc: 0.0566\n",
      "Epoch 2/3\n",
      "34799/34799 [==============================] - 187s 5ms/step - loss: 3.4926 - acc: 0.0561\n",
      "Epoch 3/3\n",
      "34799/34799 [==============================] - 189s 5ms/step - loss: 3.4855 - acc: 0.0567\n",
      "Rotated data percentage 0\n",
      "loss= 3.4751701099761214\n",
      "accuracy= 0.05700712589545563\n",
      "Epoch 1/3\n",
      "34799/34799 [==============================] - 189s 5ms/step - loss: 3.4515 - acc: 0.0772\n",
      "Epoch 2/3\n",
      "34799/34799 [==============================] - 188s 5ms/step - loss: 2.0043 - acc: 0.4925\n",
      "Epoch 3/3\n",
      "34799/34799 [==============================] - 188s 5ms/step - loss: 0.3503 - acc: 0.9222\n",
      "Rotated data percentage 10\n",
      "loss= 6.133233713858296\n",
      "accuracy= 0.16825019794848828\n",
      "Epoch 1/3\n",
      "34799/34799 [==============================] - 188s 5ms/step - loss: 0.3005 - acc: 0.9211\n",
      "Epoch 2/3\n",
      "34799/34799 [==============================] - 187s 5ms/step - loss: 0.1661 - acc: 0.9561\n",
      "Epoch 3/3\n",
      "34799/34799 [==============================] - 187s 5ms/step - loss: 0.1221 - acc: 0.9667\n",
      "Rotated data percentage 20\n",
      "loss= 5.9603507583328215\n",
      "accuracy= 0.22549485353043602\n",
      "Epoch 1/3\n",
      "34799/34799 [==============================] - 188s 5ms/step - loss: 0.2597 - acc: 0.9208\n",
      "Epoch 2/3\n",
      "34799/34799 [==============================] - 187s 5ms/step - loss: 0.1725 - acc: 0.9493\n",
      "Epoch 3/3\n",
      "34799/34799 [==============================] - 187s 5ms/step - loss: 0.1355 - acc: 0.9606\n",
      "Rotated data percentage 30\n",
      "loss= 5.401561436762624\n",
      "accuracy= 0.32169437847341326\n",
      "Epoch 1/3\n",
      "34799/34799 [==============================] - 188s 5ms/step - loss: 0.2997 - acc: 0.9071\n",
      "Epoch 2/3\n",
      "34799/34799 [==============================] - 187s 5ms/step - loss: 0.2005 - acc: 0.9375\n",
      "Epoch 3/3\n",
      "34799/34799 [==============================] - 187s 5ms/step - loss: 0.1676 - acc: 0.9483\n",
      "Rotated data percentage 40\n",
      "loss= 4.6542732996876435\n",
      "accuracy= 0.39722882027863887\n",
      "Epoch 1/3\n",
      "34799/34799 [==============================] - 187s 5ms/step - loss: 0.2912 - acc: 0.9103\n",
      "Epoch 2/3\n",
      "34799/34799 [==============================] - 187s 5ms/step - loss: 0.2007 - acc: 0.9373\n",
      "Epoch 3/3\n",
      "34799/34799 [==============================] - 187s 5ms/step - loss: 0.1685 - acc: 0.9481\n",
      "Rotated data percentage 50\n",
      "loss= 3.7534640624800657\n",
      "accuracy= 0.5121931908107993\n",
      "Epoch 1/3\n",
      "34799/34799 [==============================] - 188s 5ms/step - loss: 0.3323 - acc: 0.8979\n",
      "Epoch 2/3\n",
      "34799/34799 [==============================] - 187s 5ms/step - loss: 0.2303 - acc: 0.9252\n",
      "Epoch 3/3\n",
      "34799/34799 [==============================] - 187s 5ms/step - loss: 0.2001 - acc: 0.9357\n",
      "Rotated data percentage 60\n",
      "loss= 3.161423141052113\n",
      "accuracy= 0.5622327791209837\n",
      "Epoch 1/3\n",
      "34799/34799 [==============================] - 188s 5ms/step - loss: 0.2951 - acc: 0.9064\n",
      "Epoch 2/3\n",
      "34799/34799 [==============================] - 187s 5ms/step - loss: 0.2174 - acc: 0.9308\n",
      "Epoch 3/3\n",
      "34799/34799 [==============================] - 187s 5ms/step - loss: 0.1927 - acc: 0.9398\n",
      "Rotated data percentage 70\n",
      "loss= 2.4844959100465025\n",
      "accuracy= 0.6443388756880757\n",
      "Epoch 1/3\n",
      "34799/34799 [==============================] - 188s 5ms/step - loss: 0.4710 - acc: 0.8659\n",
      "Epoch 2/3\n",
      "34799/34799 [==============================] - 190s 5ms/step - loss: 0.3341 - acc: 0.8976\n",
      "Epoch 3/3\n",
      "34799/34799 [==============================] - 188s 5ms/step - loss: 0.2906 - acc: 0.9092\n",
      "Rotated data percentage 80\n",
      "loss= 1.8092975247595298\n",
      "accuracy= 0.7095011876767718\n",
      "Epoch 1/3\n",
      "34799/34799 [==============================] - 189s 5ms/step - loss: 0.3535 - acc: 0.8937\n",
      "Epoch 2/3\n",
      "34799/34799 [==============================] - 188s 5ms/step - loss: 0.2821 - acc: 0.9105\n",
      "Epoch 3/3\n",
      "34799/34799 [==============================] - 188s 5ms/step - loss: 0.2501 - acc: 0.9234\n",
      "Rotated data percentage 90\n",
      "loss= 1.4105253846703873\n",
      "accuracy= 0.7653998416751883\n",
      "Epoch 1/3\n",
      "34799/34799 [==============================] - 189s 5ms/step - loss: 0.4798 - acc: 0.8494\n",
      "Epoch 2/3\n",
      "34799/34799 [==============================] - 188s 5ms/step - loss: 0.3634 - acc: 0.8817\n",
      "Epoch 3/3\n",
      "34799/34799 [==============================] - 188s 5ms/step - loss: 0.3164 - acc: 0.8999\n",
      "Rotated data percentage 100\n",
      "loss= 0.5628051342514896\n",
      "accuracy= 0.8329374505240863\n"
     ]
    }
   ],
   "source": [
    "scores=[]\n",
    "k=0;\n",
    "while k<=100:\n",
    "    for i in range(len(x_train)):\n",
    "        percent = len(x_train)*k//100\n",
    "        if i<percent:\n",
    "            new_x_train[i] = rotated_train[i]\n",
    "        else:\n",
    "            break\n",
    "    model = Model([inpx], layer7) \n",
    "    model.compile(optimizer=keras.optimizers.Adadelta(), loss=keras.losses.categorical_crossentropy, metrics=['accuracy']) \n",
    "    model.fit(new_x_train, y_train, epochs=2, batch_size=128)\n",
    "    score = model.evaluate(rotated_test, y_test, verbose=0)\n",
    "    scores.append(score)\n",
    "    print('Rotated data percentage', k)\n",
    "    print('loss=', score[0]) \n",
    "    print('accuracy=', score[1]) \n",
    "    k+=20"
   ]
  },
  {
   "cell_type": "code",
   "execution_count": 11,
   "metadata": {},
   "outputs": [
    {
     "data": {
      "image/png": "[encoded data removed]",
      "text/plain": [
       "<Figure size 432x288 with 1 Axes>"
      ]
     },
     "metadata": {
      "needs_background": "light"
     },
     "output_type": "display_data"
    }
   ],
   "source": [
    "scores = [(3.4751701099761214,0.05700712589545563),(0.5467910362958908,0.16825019794848828),(0.33211031255126,0.22549485353043602),(0.23140600017607213,0.32169437847341326),(0.1824785115376115,0.39722882027863887),(0.1563132534109056,0.5121931908107993),(0.14079290256612004,0.5622327791209837),(0.1285845530539751,0.6443388756880757),(0.11929636264964938,0.7095011876767718),(0.11176297247093171,0.7653998416751883),(0.10753180085103958,0.8329374505240863)]\n",
    "# plt.plot([scores[i][1] for i in range(11)],[i*10 for i in range(11)])\n",
    "# plt.plot([scores[i][0] for i in range(11)],[i*10 for i in range(11)])\n",
    "# acc = [0.5017814726840855,0.4957719714987967,0.544299287413286,0.61153602533886,0.6327315914489311,0.652810768007949,0.6839746634948848,0.7177355502676794,0.7392715756136184,0.7755186064830396,0.7904275534441805]\n",
    "plt.plot([i*10 for i in range(11)],[acc[i]*100 for i in range(11)])\n",
    "plt.ylabel(\"Accuracy\")\n",
    "plt.xlabel(\"Share of Rotated Data in training\")\n",
    "plt.title(\"Accuracy VS Normal data\")\n",
    "plt.show()"
   ]
  },
  {
   "cell_type": "code",
   "execution_count": null,
   "metadata": {},
   "outputs": [],
   "source": [
    "plt.plot([scores[i][0] for i in range(11)],[i*10 for i in range(11)])\n",
    "plt.ylabel(\"Loss\")\n",
    "plt.xlabel(\"Share of Rotated Data in training\")\n",
    "plt.title(\"Loss VS Mixed Rotated data\")\n",
    "plt.show()"
   ]
  },
  {
   "cell_type": "code",
   "execution_count": null,
   "metadata": {},
   "outputs": [],
   "source": [
    "scores"
   ]
  },
  {
   "cell_type": "code",
   "execution_count": null,
   "metadata": {},
   "outputs": [],
   "source": []
  }
 ],
 "metadata": {
  "kernelspec": {
   "display_name": "Python 3",
   "language": "python",
   "name": "python3"
  },
  "language_info": {
   "codemirror_mode": {
    "name": "ipython",
    "version": 3
   },
   "file_extension": ".py",
   "mimetype": "text/x-python",
   "name": "python",
   "nbconvert_exporter": "python",
   "pygments_lexer": "ipython3",
   "version": "3.6.7"
  }
 },
 "nbformat": 4,
 "nbformat_minor": 2
}
