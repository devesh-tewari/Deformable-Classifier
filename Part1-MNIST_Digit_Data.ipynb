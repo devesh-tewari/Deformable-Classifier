{
 "cells": [
  {
   "cell_type": "markdown",
   "metadata": {},
   "source": [
    "# Part 1 : Train and Test CNN"
   ]
  },
  {
   "cell_type": "code",
   "execution_count": 1,
   "metadata": {},
   "outputs": [
    {
     "name": "stderr",
     "output_type": "stream",
     "text": [
      "Using TensorFlow backend.\n"
     ]
    }
   ],
   "source": [
    "import numpy as np \n",
    "import keras  \n",
    "import math\n",
    "from keras.datasets import mnist \n",
    "from keras.models import Model ,Sequential\n",
    "from keras.layers import Dense, Input\n",
    "from keras.layers import Conv2D, MaxPooling2D, Dropout, Flatten \n",
    "from keras import backend as k \n",
    "from scipy import ndimage\n",
    "import matplotlib.pyplot as plt"
   ]
  },
  {
   "cell_type": "markdown",
   "metadata": {},
   "source": [
    "### Collect and preprocess data (MNIST Digit data)"
   ]
  },
  {
   "cell_type": "code",
   "execution_count": 2,
   "metadata": {},
   "outputs": [],
   "source": [
    "#Get MNIST digit dataset\n",
    "(x_train, y_train), (x_test, y_test) = mnist.load_data() "
   ]
  },
  {
   "cell_type": "code",
   "execution_count": 3,
   "metadata": {},
   "outputs": [],
   "source": [
    "#Initialize training and testing parameters\n",
    "Input_image_size = x_train.shape[1]\n",
    "Processed_image_size = int(math.ceil(math.sqrt(Input_image_size**2 + Input_image_size**2)))\n",
    "Train_data_size = 20000\n",
    "Test_data_size = 5000"
   ]
  },
  {
   "cell_type": "code",
   "execution_count": 4,
   "metadata": {},
   "outputs": [],
   "source": [
    "#Ininitialize Global Variables\n",
    "(x_train, y_train), (x_test, y_test) = (x_train[:Train_data_size], y_train[:Train_data_size]), (x_test[:Test_data_size], y_test[:Test_data_size])\n",
    "new_x_train   = np.zeros((Train_data_size,Processed_image_size,Processed_image_size))\n",
    "rotated_train = np.zeros((Train_data_size,Processed_image_size,Processed_image_size))\n",
    "new_x_test    = np.zeros((Test_data_size ,Processed_image_size,Processed_image_size))\n",
    "rotated_test  = np.zeros((Test_data_size ,Processed_image_size,Processed_image_size))\n",
    "mixed_train   = np.zeros((Train_data_size,Processed_image_size,Processed_image_size))"
   ]
  },
  {
   "cell_type": "code",
   "execution_count": 5,
   "metadata": {},
   "outputs": [],
   "source": [
    "for i in range(len(x_train)):\n",
    "    original_img   = x_train[i]\n",
    "    rotation_angle = np.random.randint(360)\n",
    "    rotated_image  = ndimage.rotate(original_img, rotation_angle)\n",
    "    tr = (40-rotated_image.shape[0])//2\n",
    "    dr = (40-rotated_image.shape[1]) - tr\n",
    "    lc = (40-rotated_image.shape[0])//2\n",
    "    rc = (40-rotated_image.shape[1]) - lc\n",
    "    new_x_train[i] = np.pad(original_img, ( (6,6),(6,6) ) ,mode='constant',constant_values=0)\n",
    "    rotated_train[i] = np.pad(rotated_image, ( (tr,dr),(lc,rc) ) ,mode='constant',constant_values=0)\n",
    "\n",
    "for i in range(len(x_test)):\n",
    "    rotation_angle = np.random.randint(360)\n",
    "    rotated_image = ndimage.rotate(x_test[i], rotation_angle)\n",
    "    tr = (40-rotated_image.shape[0])//2\n",
    "    dr = (40-rotated_image.shape[1]) - tr\n",
    "    lc = (40-rotated_image.shape[0])//2\n",
    "    rc = (40-rotated_image.shape[1]) - lc\n",
    "    rotated_test[i]=np.pad(rotated_image, ( (tr,dr),(lc,rc) ) ,mode='constant',constant_values=0)\n",
    "    new_x_test[i]=np.pad(x_test[i], ( (6,6),(6,6) ) ,mode='constant',constant_values=0)"
   ]
  },
  {
   "cell_type": "code",
   "execution_count": 6,
   "metadata": {},
   "outputs": [
    {
     "name": "stdout",
     "output_type": "stream",
     "text": [
      "WARNING:tensorflow:From /usr/local/lib/python2.7/dist-packages/tensorflow/python/framework/op_def_library.py:263: colocate_with (from tensorflow.python.framework.ops) is deprecated and will be removed in a future version.\n",
      "Instructions for updating:\n",
      "Colocations handled automatically by placer.\n",
      "WARNING:tensorflow:From /usr/local/lib/python2.7/dist-packages/keras/backend/tensorflow_backend.py:3445: calling dropout (from tensorflow.python.ops.nn_ops) with keep_prob is deprecated and will be removed in a future version.\n",
      "Instructions for updating:\n",
      "Please use `rate` instead of `keep_prob`. Rate should be set to `rate = 1 - keep_prob`.\n"
     ]
    }
   ],
   "source": [
    "img_rows, img_cols=Processed_image_size, Processed_image_size\n",
    "new_x_train   = new_x_train.reshape(new_x_train.shape[0], img_rows, img_cols, 1) \n",
    "rotated_train = rotated_train.reshape(rotated_train.shape[0], img_rows, img_cols, 1)\n",
    "new_x_test    = new_x_test.reshape(new_x_test.shape[0], img_rows, img_cols, 1) \n",
    "rotated_test  = rotated_test.reshape(rotated_test.shape[0], img_rows, img_cols, 1) \n",
    "inpx = (img_rows, img_cols, 1) \n",
    "\n",
    "y_train = keras.utils.to_categorical(y_train,10)    #One Hot Encode\n",
    "y_test  = keras.utils.to_categorical(y_test,10)      #One Hot Encode\n",
    "\n",
    "\n",
    "x_train = x_train.astype('float32') \n",
    "rotated_train = rotated_train.astype('float32') \n",
    "new_x_train = new_x_train.astype('float32') \n",
    "x_test = x_test.astype('float32') \n",
    "new_x_test = new_x_test.astype('float32') \n",
    "rotated_test = rotated_test.astype('float32') \n",
    "\n",
    "\n",
    "x_train /= 255\n",
    "new_x_train /= 255\n",
    "rotated_train /= 255\n",
    "x_test /= 255\n",
    "new_x_test /= 255\n",
    "rotated_test /= 255\n",
    "\n",
    "inpx = Input(shape=inpx) \n",
    "layer1 = Conv2D(32, kernel_size=(3, 3), activation='tanh')(inpx) \n",
    "layer2 = Conv2D(64, (3, 3), activation='tanh')(layer1) \n",
    "layer3 = MaxPooling2D(pool_size=(3, 3))(layer2) \n",
    "layer4 = Dropout(0.5)(layer3) \n",
    "layer5 = Flatten()(layer4) \n",
    "layer6 = Dense(250, activation='sigmoid')(layer5) \n",
    "layer7 = Dense(10, activation='softmax')(layer6) \n"
   ]
  },
  {
   "cell_type": "code",
   "execution_count": 7,
   "metadata": {},
   "outputs": [],
   "source": [
    "mixed_test = np.concatenate((new_x_test, rotated_test), axis=0)\n",
    "mixed_y_test = np.concatenate((y_test, y_test), axis=0)"
   ]
  },
  {
   "cell_type": "code",
   "execution_count": 8,
   "metadata": {
    "scrolled": true
   },
   "outputs": [
    {
     "name": "stdout",
     "output_type": "stream",
     "text": [
      "WARNING:tensorflow:From /usr/local/lib/python2.7/dist-packages/tensorflow/python/ops/math_ops.py:3066: to_int32 (from tensorflow.python.ops.math_ops) is deprecated and will be removed in a future version.\n",
      "Instructions for updating:\n",
      "Use tf.cast instead.\n",
      "Epoch 1/3\n",
<<<<<<< HEAD
      "20000/20000 [==============================] - 109s 5ms/step - loss: 1.8717 - acc: 0.3583\n",
      "Epoch 2/3\n",
      "20000/20000 [==============================] - 106s 5ms/step - loss: 1.3986 - acc: 0.5143\n",
      "Epoch 3/3\n",
      "20000/20000 [==============================] - 106s 5ms/step - loss: 1.1867 - acc: 0.5963\n",
      "('Rotated data percentage', 80)\n",
      "('loss=', 0.9472691607475281)\n",
      "('accuracy=', 0.711)\n"
=======
      "20000/20000 [==============================] - 114s 6ms/step - loss: 1.1225 - acc: 0.6688\n",
      "Epoch 2/3\n",
      "20000/20000 [==============================] - 113s 6ms/step - loss: 0.4009 - acc: 0.8885\n",
      "Epoch 3/3\n",
      "20000/20000 [==============================] - 118s 6ms/step - loss: 0.2919 - acc: 0.9188\n",
      "('Rotated data percentage', 0)\n",
      "('loss=', 1.6514485749721528)\n",
      "('accuracy=', 0.612)\n"
>>>>>>> 07335c2fac5e096b1c8205f77b31095c4f636b2f
     ]
    }
   ],
   "source": [
    "scores=[]\n",
<<<<<<< HEAD
    "k=80;\n",
    "while k<=80:\n",
=======
    "k=0;\n",
    "while k<=0:\n",
>>>>>>> 07335c2fac5e096b1c8205f77b31095c4f636b2f
    "    model = Model([inpx], layer7) \n",
    "    model.compile(optimizer=keras.optimizers.Adadelta(), loss=keras.losses.categorical_crossentropy, metrics=['accuracy']) \n",
    "    for i in range(len(x_train)):\n",
    "        percent = len(x_train)*k//100\n",
    "        if i<percent:\n",
    "            new_x_train[i] = rotated_train[i]\n",
    "        else:\n",
    "            break    \n",
    "    model.fit(new_x_train, y_train, epochs=3, batch_size=500)\n",
    "    score = model.evaluate(mixed_test, mixed_y_test, verbose=0)\n",
    "    scores.append(score)\n",
    "    print('Rotated data percentage', k)\n",
    "    print('loss=', score[0]) \n",
    "    print('accuracy=', score[1]) \n",
    "    k+=20"
   ]
<<<<<<< HEAD
  },
  {
   "cell_type": "code",
   "execution_count": null,
   "metadata": {},
   "outputs": [],
   "source": []
=======
>>>>>>> 07335c2fac5e096b1c8205f77b31095c4f636b2f
  }
 ],
 "metadata": {
  "kernelspec": {
   "display_name": "Python 2",
   "language": "python",
   "name": "python2"
  },
  "language_info": {
   "codemirror_mode": {
    "name": "ipython",
    "version": 2
   },
   "file_extension": ".py",
   "mimetype": "text/x-python",
   "name": "python",
   "nbconvert_exporter": "python",
   "pygments_lexer": "ipython2",
   "version": "2.7.15rc1"
  }
 },
 "nbformat": 4,
 "nbformat_minor": 2
}
